{
 "cells": [
  {
   "cell_type": "code",
   "execution_count": 1,
   "metadata": {},
   "outputs": [],
   "source": [
    "# セクター別リターン 練習用\n",
    "# 1,過去6ヶ月および過去3ヶ月のセクター別リターン\n",
    "# 2,セクター別の月次リターン\n",
    "# https://github.com/J-Quants/jquants-api-client-python/blob/main/examples/20220825-002-sector.ipynb"
   ]
  },
  {
   "cell_type": "code",
   "execution_count": 2,
   "metadata": {},
   "outputs": [],
   "source": [
    "import os\n",
    "from datetime import datetime\n",
    "\n",
    "import japanize_matplotlib\n",
    "import jquantsapi\n",
    "import matplotlib.pyplot as plt\n",
    "import numpy as np\n",
    "import pandas as pd\n",
    "import seaborn as sns\n",
    "import requests\n",
    "import json\n",
    "# pandas の表示制限を調整します\n",
    "pd.set_option(\"display.max_rows\", 1000)\n",
    "pd.set_option(\"display.max_columns\", 1000)\n",
    "pd.set_option(\"display.width\", 2000)\n",
    "     \n"
   ]
  },
  {
   "cell_type": "code",
   "execution_count": 3,
   "metadata": {},
   "outputs": [],
   "source": [
    "df_schedule = pd.read_csv(r\"C:\\Users\\xxp2p\\OneDrive\\デスクトップ\\ipo_csv格納庫\\df_schedule_0120.csv\", encoding='utf-8_sig')\n",
    "df_assessments = pd.read_csv(r\"C:\\Users\\xxp2p\\OneDrive\\デスクトップ\\ipo_csv格納庫\\df_assessments_0131.csv\", encoding='utf-8_sig')\n",
    "df_shareholders = pd.read_csv(r\"C:\\Users\\xxp2p\\OneDrive\\デスクトップ\\ipo_csv格納庫\\df_shareholders_0120.csv\", encoding='utf-8_sig')\n",
    "df_underwriters = pd.read_csv(r\"C:\\Users\\xxp2p\\OneDrive\\デスクトップ\\ipo_csv格納庫\\df_underwriters_0120.csv\", encoding='utf-8_sig')"
   ]
  },
  {
   "cell_type": "code",
   "execution_count": 5,
   "metadata": {},
   "outputs": [],
   "source": [
    "# リフレッシュトークンの更新　メールアドレスとパスワード漏洩注意\n",
    "# https://ku-ai-trade.com/j-quants-api/\n",
    "\n",
    "# data={\"mailaddress\":\"登録したメアド\", \"password\":\"登録したpass\"}\n",
    "r_post = requests.post(\"https://api.jpx-jquants.com/v1/token/auth_user\", data=json.dumps(data))\n",
    "r_post.json()\n",
    "# トークン取得\n",
    "refresh_token = r_post.json()['refreshToken']\n",
    "# J-Quants APIクライアントを初期化します\n",
    "jqapi = jquantsapi.Client(refresh_token=refresh_token)\n",
    "# 銘柄情報を取得します\n",
    "df_list = jqapi.get_list()"
   ]
  },
  {
   "cell_type": "code",
   "execution_count": 6,
   "metadata": {},
   "outputs": [
    {
     "data": {
      "text/html": [
       "<div>\n",
       "<style scoped>\n",
       "    .dataframe tbody tr th:only-of-type {\n",
       "        vertical-align: middle;\n",
       "    }\n",
       "\n",
       "    .dataframe tbody tr th {\n",
       "        vertical-align: top;\n",
       "    }\n",
       "\n",
       "    .dataframe thead th {\n",
       "        text-align: right;\n",
       "    }\n",
       "</style>\n",
       "<table border=\"1\" class=\"dataframe\">\n",
       "  <thead>\n",
       "    <tr style=\"text-align: right;\">\n",
       "      <th></th>\n",
       "      <th>Code</th>\n",
       "      <th>Date</th>\n",
       "      <th>Open</th>\n",
       "      <th>High</th>\n",
       "      <th>Low</th>\n",
       "      <th>Close</th>\n",
       "      <th>Volume</th>\n",
       "      <th>TurnoverValue</th>\n",
       "      <th>AdjustmentFactor</th>\n",
       "      <th>AdjustmentOpen</th>\n",
       "      <th>AdjustmentHigh</th>\n",
       "      <th>AdjustmentLow</th>\n",
       "      <th>AdjustmentClose</th>\n",
       "      <th>AdjustmentVolume</th>\n",
       "      <th>oc_change</th>\n",
       "      <th>cc_change</th>\n",
       "      <th>oc_change_downflag</th>\n",
       "    </tr>\n",
       "  </thead>\n",
       "  <tbody>\n",
       "    <tr>\n",
       "      <th>0</th>\n",
       "      <td>25160</td>\n",
       "      <td>2018-02-01</td>\n",
       "      <td>1022.0</td>\n",
       "      <td>1024.0</td>\n",
       "      <td>1006.0</td>\n",
       "      <td>1022.0</td>\n",
       "      <td>308400.0</td>\n",
       "      <td>3.137641e+08</td>\n",
       "      <td>1.0</td>\n",
       "      <td>1022.0</td>\n",
       "      <td>1024.0</td>\n",
       "      <td>1006.0</td>\n",
       "      <td>1022.0</td>\n",
       "      <td>308400.0</td>\n",
       "      <td>0.000000</td>\n",
       "      <td>NaN</td>\n",
       "      <td>0</td>\n",
       "    </tr>\n",
       "    <tr>\n",
       "      <th>1</th>\n",
       "      <td>25160</td>\n",
       "      <td>2018-02-02</td>\n",
       "      <td>1024.0</td>\n",
       "      <td>1024.0</td>\n",
       "      <td>998.0</td>\n",
       "      <td>1011.0</td>\n",
       "      <td>219710.0</td>\n",
       "      <td>2.217759e+08</td>\n",
       "      <td>1.0</td>\n",
       "      <td>1024.0</td>\n",
       "      <td>1024.0</td>\n",
       "      <td>998.0</td>\n",
       "      <td>1011.0</td>\n",
       "      <td>219710.0</td>\n",
       "      <td>-0.012695</td>\n",
       "      <td>-0.010763</td>\n",
       "      <td>1</td>\n",
       "    </tr>\n",
       "    <tr>\n",
       "      <th>2</th>\n",
       "      <td>25160</td>\n",
       "      <td>2018-02-05</td>\n",
       "      <td>985.0</td>\n",
       "      <td>989.0</td>\n",
       "      <td>971.0</td>\n",
       "      <td>981.0</td>\n",
       "      <td>178980.0</td>\n",
       "      <td>1.755376e+08</td>\n",
       "      <td>1.0</td>\n",
       "      <td>985.0</td>\n",
       "      <td>989.0</td>\n",
       "      <td>971.0</td>\n",
       "      <td>981.0</td>\n",
       "      <td>178980.0</td>\n",
       "      <td>-0.004061</td>\n",
       "      <td>-0.029674</td>\n",
       "      <td>1</td>\n",
       "    </tr>\n",
       "    <tr>\n",
       "      <th>3</th>\n",
       "      <td>25160</td>\n",
       "      <td>2018-02-06</td>\n",
       "      <td>906.0</td>\n",
       "      <td>923.0</td>\n",
       "      <td>856.0</td>\n",
       "      <td>897.0</td>\n",
       "      <td>407770.0</td>\n",
       "      <td>3.625499e+08</td>\n",
       "      <td>1.0</td>\n",
       "      <td>906.0</td>\n",
       "      <td>923.0</td>\n",
       "      <td>856.0</td>\n",
       "      <td>897.0</td>\n",
       "      <td>407770.0</td>\n",
       "      <td>-0.009934</td>\n",
       "      <td>-0.085627</td>\n",
       "      <td>1</td>\n",
       "    </tr>\n",
       "    <tr>\n",
       "      <th>4</th>\n",
       "      <td>25160</td>\n",
       "      <td>2018-02-07</td>\n",
       "      <td>957.0</td>\n",
       "      <td>957.0</td>\n",
       "      <td>884.0</td>\n",
       "      <td>884.0</td>\n",
       "      <td>241670.0</td>\n",
       "      <td>2.249213e+08</td>\n",
       "      <td>1.0</td>\n",
       "      <td>957.0</td>\n",
       "      <td>957.0</td>\n",
       "      <td>884.0</td>\n",
       "      <td>884.0</td>\n",
       "      <td>241670.0</td>\n",
       "      <td>-0.076280</td>\n",
       "      <td>-0.014493</td>\n",
       "      <td>1</td>\n",
       "    </tr>\n",
       "    <tr>\n",
       "      <th>...</th>\n",
       "      <td>...</td>\n",
       "      <td>...</td>\n",
       "      <td>...</td>\n",
       "      <td>...</td>\n",
       "      <td>...</td>\n",
       "      <td>...</td>\n",
       "      <td>...</td>\n",
       "      <td>...</td>\n",
       "      <td>...</td>\n",
       "      <td>...</td>\n",
       "      <td>...</td>\n",
       "      <td>...</td>\n",
       "      <td>...</td>\n",
       "      <td>...</td>\n",
       "      <td>...</td>\n",
       "      <td>...</td>\n",
       "      <td>...</td>\n",
       "    </tr>\n",
       "    <tr>\n",
       "      <th>1113</th>\n",
       "      <td>25160</td>\n",
       "      <td>2022-08-26</td>\n",
       "      <td>577.9</td>\n",
       "      <td>579.9</td>\n",
       "      <td>571.7</td>\n",
       "      <td>573.6</td>\n",
       "      <td>1109900.0</td>\n",
       "      <td>6.377145e+08</td>\n",
       "      <td>1.0</td>\n",
       "      <td>577.9</td>\n",
       "      <td>579.9</td>\n",
       "      <td>571.7</td>\n",
       "      <td>573.6</td>\n",
       "      <td>1109900.0</td>\n",
       "      <td>-0.007441</td>\n",
       "      <td>-0.000871</td>\n",
       "      <td>1</td>\n",
       "    </tr>\n",
       "    <tr>\n",
       "      <th>1114</th>\n",
       "      <td>25160</td>\n",
       "      <td>2022-08-29</td>\n",
       "      <td>547.8</td>\n",
       "      <td>561.3</td>\n",
       "      <td>547.8</td>\n",
       "      <td>559.0</td>\n",
       "      <td>2801340.0</td>\n",
       "      <td>1.557749e+09</td>\n",
       "      <td>1.0</td>\n",
       "      <td>547.8</td>\n",
       "      <td>561.3</td>\n",
       "      <td>547.8</td>\n",
       "      <td>559.0</td>\n",
       "      <td>2801340.0</td>\n",
       "      <td>0.020445</td>\n",
       "      <td>-0.025453</td>\n",
       "      <td>0</td>\n",
       "    </tr>\n",
       "    <tr>\n",
       "      <th>1115</th>\n",
       "      <td>25160</td>\n",
       "      <td>2022-08-30</td>\n",
       "      <td>562.0</td>\n",
       "      <td>568.8</td>\n",
       "      <td>561.9</td>\n",
       "      <td>567.0</td>\n",
       "      <td>1327710.0</td>\n",
       "      <td>7.505755e+08</td>\n",
       "      <td>1.0</td>\n",
       "      <td>562.0</td>\n",
       "      <td>568.8</td>\n",
       "      <td>561.9</td>\n",
       "      <td>567.0</td>\n",
       "      <td>1327710.0</td>\n",
       "      <td>0.008897</td>\n",
       "      <td>0.014311</td>\n",
       "      <td>0</td>\n",
       "    </tr>\n",
       "    <tr>\n",
       "      <th>1116</th>\n",
       "      <td>25160</td>\n",
       "      <td>2022-08-31</td>\n",
       "      <td>565.8</td>\n",
       "      <td>571.0</td>\n",
       "      <td>564.0</td>\n",
       "      <td>568.1</td>\n",
       "      <td>1167740.0</td>\n",
       "      <td>6.626058e+08</td>\n",
       "      <td>1.0</td>\n",
       "      <td>565.8</td>\n",
       "      <td>571.0</td>\n",
       "      <td>564.0</td>\n",
       "      <td>568.1</td>\n",
       "      <td>1167740.0</td>\n",
       "      <td>0.004065</td>\n",
       "      <td>0.001940</td>\n",
       "      <td>0</td>\n",
       "    </tr>\n",
       "    <tr>\n",
       "      <th>1117</th>\n",
       "      <td>25160</td>\n",
       "      <td>2022-09-01</td>\n",
       "      <td>564.8</td>\n",
       "      <td>566.0</td>\n",
       "      <td>559.9</td>\n",
       "      <td>559.9</td>\n",
       "      <td>1473900.0</td>\n",
       "      <td>8.293626e+08</td>\n",
       "      <td>1.0</td>\n",
       "      <td>564.8</td>\n",
       "      <td>566.0</td>\n",
       "      <td>559.9</td>\n",
       "      <td>559.9</td>\n",
       "      <td>1473900.0</td>\n",
       "      <td>-0.008676</td>\n",
       "      <td>-0.014434</td>\n",
       "      <td>1</td>\n",
       "    </tr>\n",
       "  </tbody>\n",
       "</table>\n",
       "<p>1118 rows × 17 columns</p>\n",
       "</div>"
      ],
      "text/plain": [
       "       Code       Date    Open    High     Low   Close     Volume  TurnoverValue  AdjustmentFactor  AdjustmentOpen  AdjustmentHigh  AdjustmentLow  AdjustmentClose  AdjustmentVolume  oc_change  cc_change  oc_change_downflag\n",
       "0     25160 2018-02-01  1022.0  1024.0  1006.0  1022.0   308400.0   3.137641e+08               1.0          1022.0          1024.0         1006.0           1022.0          308400.0   0.000000        NaN                   0\n",
       "1     25160 2018-02-02  1024.0  1024.0   998.0  1011.0   219710.0   2.217759e+08               1.0          1024.0          1024.0          998.0           1011.0          219710.0  -0.012695  -0.010763                   1\n",
       "2     25160 2018-02-05   985.0   989.0   971.0   981.0   178980.0   1.755376e+08               1.0           985.0           989.0          971.0            981.0          178980.0  -0.004061  -0.029674                   1\n",
       "3     25160 2018-02-06   906.0   923.0   856.0   897.0   407770.0   3.625499e+08               1.0           906.0           923.0          856.0            897.0          407770.0  -0.009934  -0.085627                   1\n",
       "4     25160 2018-02-07   957.0   957.0   884.0   884.0   241670.0   2.249213e+08               1.0           957.0           957.0          884.0            884.0          241670.0  -0.076280  -0.014493                   1\n",
       "...     ...        ...     ...     ...     ...     ...        ...            ...               ...             ...             ...            ...              ...               ...        ...        ...                 ...\n",
       "1113  25160 2022-08-26   577.9   579.9   571.7   573.6  1109900.0   6.377145e+08               1.0           577.9           579.9          571.7            573.6         1109900.0  -0.007441  -0.000871                   1\n",
       "1114  25160 2022-08-29   547.8   561.3   547.8   559.0  2801340.0   1.557749e+09               1.0           547.8           561.3          547.8            559.0         2801340.0   0.020445  -0.025453                   0\n",
       "1115  25160 2022-08-30   562.0   568.8   561.9   567.0  1327710.0   7.505755e+08               1.0           562.0           568.8          561.9            567.0         1327710.0   0.008897   0.014311                   0\n",
       "1116  25160 2022-08-31   565.8   571.0   564.0   568.1  1167740.0   6.626058e+08               1.0           565.8           571.0          564.0            568.1         1167740.0   0.004065   0.001940                   0\n",
       "1117  25160 2022-09-01   564.8   566.0   559.9   559.9  1473900.0   8.293626e+08               1.0           564.8           566.0          559.9            559.9         1473900.0  -0.008676  -0.014434                   1\n",
       "\n",
       "[1118 rows x 17 columns]"
      ]
     },
     "execution_count": 6,
     "metadata": {},
     "output_type": "execute_result"
    }
   ],
   "source": [
    "# 株価データ取得、1銘柄のみ\n",
    "# 株価情報APIは、codeを指定していれば、from, toでのデータ取得も可能。\n",
    "df_mothers_etf_price = jqapi.get_prices_daily_quotes(code=25160,\n",
    "    from_yyyymmdd=20160801,\n",
    "    to_yyyymmdd=20220901)\n",
    "# oc_change,cc_change作成\n",
    "df_mothers_etf_price[\"oc_change\"] = df_mothers_etf_price[\"AdjustmentClose\"] / df_mothers_etf_price[\"AdjustmentOpen\"] - 1\n",
    "df_mothers_etf_price[\"cc_change\"] = df_mothers_etf_price[\"AdjustmentClose\"] / df_mothers_etf_price[\"AdjustmentClose\"].shift(1) - 1\n",
    "df_mothers_etf_price[\"oc_change_downflag\"] = [1 if x < 0 else 0 for x in df_mothers_etf_price[\"oc_change\"]]\n",
    "df_mothers_etf_price['oc_change'] = df_mothers_etf_price['oc_change'].fillna(0)\n",
    "df_mothers_etf_price\n"
   ]
  },
  {
   "cell_type": "code",
   "execution_count": 7,
   "metadata": {},
   "outputs": [
    {
     "data": {
      "text/html": [
       "<div>\n",
       "<style scoped>\n",
       "    .dataframe tbody tr th:only-of-type {\n",
       "        vertical-align: middle;\n",
       "    }\n",
       "\n",
       "    .dataframe tbody tr th {\n",
       "        vertical-align: top;\n",
       "    }\n",
       "\n",
       "    .dataframe thead th {\n",
       "        text-align: right;\n",
       "    }\n",
       "</style>\n",
       "<table border=\"1\" class=\"dataframe\">\n",
       "  <thead>\n",
       "    <tr style=\"text-align: right;\">\n",
       "      <th></th>\n",
       "      <th>Code</th>\n",
       "      <th>Date</th>\n",
       "      <th>Open</th>\n",
       "      <th>High</th>\n",
       "      <th>Low</th>\n",
       "      <th>Close</th>\n",
       "      <th>Volume</th>\n",
       "      <th>TurnoverValue</th>\n",
       "      <th>AdjustmentFactor</th>\n",
       "      <th>AdjustmentOpen</th>\n",
       "      <th>AdjustmentHigh</th>\n",
       "      <th>AdjustmentLow</th>\n",
       "      <th>AdjustmentClose</th>\n",
       "      <th>AdjustmentVolume</th>\n",
       "      <th>oc_change</th>\n",
       "      <th>cc_change</th>\n",
       "      <th>oc_change_downflag</th>\n",
       "    </tr>\n",
       "  </thead>\n",
       "  <tbody>\n",
       "    <tr>\n",
       "      <th>0</th>\n",
       "      <td>25160</td>\n",
       "      <td>2018-02-01</td>\n",
       "      <td>1022.0</td>\n",
       "      <td>1024.0</td>\n",
       "      <td>1006.0</td>\n",
       "      <td>1022.0</td>\n",
       "      <td>308400.0</td>\n",
       "      <td>313764140.0</td>\n",
       "      <td>1.0</td>\n",
       "      <td>1022.0</td>\n",
       "      <td>1024.0</td>\n",
       "      <td>1006.0</td>\n",
       "      <td>1022.0</td>\n",
       "      <td>308400.0</td>\n",
       "      <td>0.000000</td>\n",
       "      <td>NaN</td>\n",
       "      <td>0</td>\n",
       "    </tr>\n",
       "    <tr>\n",
       "      <th>647</th>\n",
       "      <td>25160</td>\n",
       "      <td>2020-10-01</td>\n",
       "      <td>NaN</td>\n",
       "      <td>NaN</td>\n",
       "      <td>NaN</td>\n",
       "      <td>NaN</td>\n",
       "      <td>NaN</td>\n",
       "      <td>NaN</td>\n",
       "      <td>1.0</td>\n",
       "      <td>NaN</td>\n",
       "      <td>NaN</td>\n",
       "      <td>NaN</td>\n",
       "      <td>NaN</td>\n",
       "      <td>NaN</td>\n",
       "      <td>0.000000</td>\n",
       "      <td>NaN</td>\n",
       "      <td>0</td>\n",
       "    </tr>\n",
       "    <tr>\n",
       "      <th>648</th>\n",
       "      <td>25160</td>\n",
       "      <td>2020-10-02</td>\n",
       "      <td>955.0</td>\n",
       "      <td>962.0</td>\n",
       "      <td>931.0</td>\n",
       "      <td>936.0</td>\n",
       "      <td>591600.0</td>\n",
       "      <td>560441530.0</td>\n",
       "      <td>1.0</td>\n",
       "      <td>955.0</td>\n",
       "      <td>962.0</td>\n",
       "      <td>931.0</td>\n",
       "      <td>936.0</td>\n",
       "      <td>591600.0</td>\n",
       "      <td>-0.019895</td>\n",
       "      <td>NaN</td>\n",
       "      <td>1</td>\n",
       "    </tr>\n",
       "  </tbody>\n",
       "</table>\n",
       "</div>"
      ],
      "text/plain": [
       "      Code       Date    Open    High     Low   Close    Volume  TurnoverValue  AdjustmentFactor  AdjustmentOpen  AdjustmentHigh  AdjustmentLow  AdjustmentClose  AdjustmentVolume  oc_change  cc_change  oc_change_downflag\n",
       "0    25160 2018-02-01  1022.0  1024.0  1006.0  1022.0  308400.0    313764140.0               1.0          1022.0          1024.0         1006.0           1022.0          308400.0   0.000000        NaN                   0\n",
       "647  25160 2020-10-01     NaN     NaN     NaN     NaN       NaN            NaN               1.0             NaN             NaN            NaN              NaN               NaN   0.000000        NaN                   0\n",
       "648  25160 2020-10-02   955.0   962.0   931.0   936.0  591600.0    560441530.0               1.0           955.0           962.0          931.0            936.0          591600.0  -0.019895        NaN                   1"
      ]
     },
     "execution_count": 7,
     "metadata": {},
     "output_type": "execute_result"
    }
   ],
   "source": [
    "# 欠損値の確認\n",
    "df_mothers_etf_price[df_mothers_etf_price.isnull().any(axis=1)]"
   ]
  },
  {
   "attachments": {},
   "cell_type": "markdown",
   "metadata": {},
   "source": [
    "ここで検証コードつくってみる"
   ]
  },
  {
   "cell_type": "code",
   "execution_count": null,
   "metadata": {},
   "outputs": [],
   "source": [
    "# ipo検証用のdf作成[1]\n",
    "\n",
    "# 期末発行済株式数カラム作成用コード\n",
    "df_fin_first_list = pd.DataFrame()\n",
    "for i in df_assessments[\"code\"].values:\n",
    "# for i in [3277]:実験用\n",
    "    df_fin_first = jqapi.get_fins_statements(code=i)\n",
    "    df_fin_first[\"期末発行済株式数\"] = df_fin_first[\"NumberOfIssuedAndOutstandingSharesAtTheEndOfFiscalYearIncludingTreasuryStock\"]\n",
    "    df_fin_first[\"期末発行済株式数\"] = pd.to_numeric(df_fin_first[\"期末発行済株式数\"], errors='raise', downcast=None)\n",
    "    df_fin_first[\"期末発行済株式数\"] = df_fin_first[\"期末発行済株式数\"].fillna(method='bfill')\n",
    "    df_fin_first_list = pd.concat([df_fin_first_list,df_fin_first.iloc[:1,:]], axis=0)\n",
    "# df_fin_first_list[\"期末発行済株式数\"]"
   ]
  },
  {
   "cell_type": "code",
   "execution_count": 20,
   "metadata": {},
   "outputs": [],
   "source": [
    "# 時短用 read_csv\n",
    "# df_fin_first_list = pd.read_csv(r\"C:\\Users\\xxp2p\\OneDrive\\デスクトップ\\df_fin_first_list.csv\", encoding='utf-8_sig')\n",
    "# df_fin_first_list[\"LocalCode\"] = df_fin_first_list[\"LocalCode\"].astype(str)\n",
    "\n",
    "\n",
    "# 時短用　確認用to_csv\n",
    "# df_fin_first_list.to_csv(r\"C:\\Users\\xxp2p\\OneDrive\\デスクトップ\\df_fin_first_list.csv\", encoding='utf-8_sig',index=False)"
   ]
  },
  {
   "cell_type": "code",
   "execution_count": 9,
   "metadata": {},
   "outputs": [],
   "source": [
    "# ipo検証用のdf作成[2]\n",
    "\n",
    "# indexのリセット \n",
    "df_fin_first_list = df_fin_first_list.reset_index(drop=True)\n",
    "# mergeのためにcode列を作成し文字列型で最後の０を抜く\n",
    "df_fin_first_list[\"code\"] = df_fin_first_list[\"LocalCode\"]\n",
    "# 最後の一文字を消す\n",
    "df_fin_first_list[\"code\"] = df_fin_first_list[\"code\"].str[:-1]\n",
    "# 数値型に変更\n",
    "df_fin_first_list[\"code\"] = df_fin_first_list[\"code\"].astype(int)\n",
    "# 必要なカラムのみ残す\n",
    "df_fin_first_list[\"期末発行済株式数_開示日\"] = df_fin_first_list[\"DisclosedDate\"]\n",
    "df_fin_first_list = df_fin_first_list[[\n",
    "    \"code\",\n",
    "    \"期末発行済株式数\",\n",
    "    \"期末発行済株式数_開示日\"\n",
    "]]\n",
    "# merge\n",
    "df_ipo_inspection = df_assessments[[\n",
    "    \"code\",\n",
    "    \"初値（円）\",\n",
    "    \"想定価格（円）\",\n",
    "    \"上場市場\"\n",
    "    ]]\n",
    "\n",
    "df_ipo_inspection = pd.merge(df_ipo_inspection,df_fin_first_list, on=\"code\", how=\"inner\")\n",
    "df_schedule_ipo = df_schedule[[\n",
    "    \"code\",\n",
    "    \"上場日\",\n",
    "    \"当選株数合計（株）\"\n",
    "]]\n",
    "\n",
    "df_ipo_inspection = pd.merge(df_ipo_inspection,df_schedule_ipo, on=\"code\", how=\"inner\")\n",
    "\n",
    "\n",
    "# 時価総額カラム作成\n",
    "df_ipo_inspection[\"時価総額_想定価格計算\"] = df_ipo_inspection[\"期末発行済株式数\"] * df_ipo_inspection[\"想定価格（円）\"]\n",
    "df_ipo_inspection[\"時価総額_初値計算\"] = df_ipo_inspection[\"期末発行済株式数\"] * df_ipo_inspection[\"初値（円）\"]\n",
    "\n",
    "# 公募＋売出の総額\n",
    "df_ipo_inspection[\"公募売出総額_想定価格計算\"] = df_ipo_inspection[\"当選株数合計（株）\"] * df_ipo_inspection[\"想定価格（円）\"]\n",
    "df_ipo_inspection[\"公募売出総額_初値計算\"] = df_ipo_inspection[\"当選株数合計（株）\"] * df_ipo_inspection[\"初値（円）\"]\n"
   ]
  },
  {
   "cell_type": "code",
   "execution_count": 10,
   "metadata": {},
   "outputs": [],
   "source": [
    "# 日付でソートするための日付列をdatetime型に変換\n",
    "df_ipo_inspection[\"上場日\"] = pd.to_datetime(df_ipo_inspection[\"上場日\"])\n",
    "df_ipo_inspection = df_ipo_inspection.loc[df_ipo_inspection[\"上場市場\"] == \"マザーズ\",:]\n",
    "# マザーズetf上場後の2018-02-01以降のデータのみを抽出\n",
    "df_ipo_inspection = df_ipo_inspection[df_ipo_inspection['上場日'] >= \"2018-02-01\"]\n"
   ]
  },
  {
   "cell_type": "code",
   "execution_count": 11,
   "metadata": {},
   "outputs": [],
   "source": [
    "# 日付列でソート\n",
    "df_ipo_inspection.sort_values(by='上場日', ascending=True, inplace=True)"
   ]
  },
  {
   "cell_type": "code",
   "execution_count": 12,
   "metadata": {},
   "outputs": [],
   "source": [
    "# 時価総額_初値計算でソート 500億以上\n",
    "df_ipo_inspection.sort_values(by='時価総額_初値計算', ascending=True, inplace=True)\n",
    "df_ipo_inspection = df_ipo_inspection[df_ipo_inspection['時価総額_初値計算'] >= 5.00e+10]\n",
    "df_ipo_inspection = df_ipo_inspection.reset_index(drop=True)"
   ]
  },
  {
   "cell_type": "code",
   "execution_count": 13,
   "metadata": {},
   "outputs": [],
   "source": [
    "# 時価総額で抽出したipo銘柄の上場後の値動き\n",
    "# ipo_price_df_list　対象銘柄上場日の5日間の値動きをdfでリストに保存（5日間）時価総額＿初値500億以上\n",
    "# df_mothers_etf_price_df_list　前後5日間ずつをリストに保存\n",
    "# マザーズetfの上場した2018-02-01以後のみ検証\n",
    "\n",
    "# ipoの株価保存用リスト\n",
    "df_ipo_price_list = []\n",
    "\n",
    "df_mothers_etf_price_list = []\n",
    "mothers_etf_oc_change_list =[]\n",
    "mothers_etf_oc_change_downflag_list = []\n",
    "# cc_change用 \n",
    "# df_mothers_etf_cc_change_list = []\n",
    "# mothers_etf_cc_change_list =[]\n",
    "for i in range(len(df_ipo_inspection)):\n",
    "    ipo_code = df_ipo_inspection[\"code\"][i]\n",
    "    date = df_ipo_inspection[\"上場日\"][i]\n",
    "    # timestampに〇日足す（Timedelt）\n",
    "    end_date = date + pd.Timedelta(days=20)\n",
    "    start_date = date.strftime(\"%Y%m%d\")\n",
    "    end_date = end_date.strftime(\"%Y%m%d\")\n",
    "    # get_prices_daily_quotesのために数字に変更\n",
    "    start_date = pd.to_numeric(start_date)\n",
    "    end_date = pd.to_numeric(end_date)\n",
    "    price = jqapi.get_prices_daily_quotes(code=ipo_code,\n",
    "        from_yyyymmdd=start_date,\n",
    "        to_yyyymmdd=end_date)\n",
    "    # 上場日から5日間を抽出\n",
    "    df_ipo_price_list.append(price[0:5])\n",
    "\n",
    "    # マザーズetfの値動き保存　前後の日数設定\n",
    "    target_date = date\n",
    "    start_index = df_mothers_etf_price[df_mothers_etf_price['Date'] == target_date].index[0] - 5\n",
    "    end_index = df_mothers_etf_price[df_mothers_etf_price['Date'] == target_date].index[0] + 5\n",
    "    # リストに追加\n",
    "    df_mothers_etf_price_list.append(df_mothers_etf_price.iloc[start_index:end_index])\n",
    "    mothers_etf_oc_change_list.append(df_mothers_etf_price.iloc[start_index:end_index].oc_change.values)\n",
    "    mothers_etf_oc_change_downflag_list.append(df_mothers_etf_price.iloc[start_index:end_index].oc_change_downflag.values)\n",
    "    # cc_change用 \n",
    "    # df_mothers_etf_cc_change_list.append(df_mothers_etf_price.iloc[start_index:end_index].cc_change)\n",
    "    # mothers_etf_cc_change_list.append(df_mothers_etf_price.iloc[start_index:end_index].cc_change.values)\n",
    "\n"
   ]
  },
  {
   "attachments": {},
   "cell_type": "markdown",
   "metadata": {},
   "source": [
    "下落確率検証"
   ]
  },
  {
   "cell_type": "code",
   "execution_count": 14,
   "metadata": {},
   "outputs": [
    {
     "data": {
      "text/plain": [
       "0.48300536672629696"
      ]
     },
     "execution_count": 14,
     "metadata": {},
     "output_type": "execute_result"
    }
   ],
   "source": [
    "# マザーズetf　全期間　ocの下落率\n",
    "df_mothers_etf_price.oc_change_downflag.mean()"
   ]
  },
  {
   "cell_type": "code",
   "execution_count": 15,
   "metadata": {},
   "outputs": [
    {
     "data": {
      "text/plain": [
       "array([0.5       , 0.72727273, 0.5       , 0.40909091, 0.68181818,\n",
       "       0.54545455, 0.31818182, 0.36363636, 0.68181818, 0.63636364])"
      ]
     },
     "execution_count": 15,
     "metadata": {},
     "output_type": "execute_result"
    }
   ],
   "source": [
    "# マザーズipo上場前後etfのocの下落率（－5日～5日目まで）\n",
    "np.mean(mothers_etf_oc_change_downflag_list,axis=0)"
   ]
  },
  {
   "cell_type": "code",
   "execution_count": 16,
   "metadata": {},
   "outputs": [
    {
     "data": {
      "image/png": "[encoded data removed]",
      "text/plain": [
       "<Figure size 432x288 with 1 Axes>"
      ]
     },
     "metadata": {
      "needs_background": "light"
     },
     "output_type": "display_data"
    }
   ],
   "source": [
    "# 可視化\n",
    "mean = df_mothers_etf_price.oc_change_downflag.mean()\n",
    "x = [i for i in range(len(np.mean(mothers_etf_oc_change_downflag_list,axis=0)))]\n",
    "y = np.mean(mothers_etf_oc_change_downflag_list,axis=0)\n",
    "plt.plot(x, y, label=\"At the time of IPO listing\")\n",
    "plt.axhline(mean,color='red', linestyle='--', label=\"etf Mean\")\n",
    "plt.xlabel(\"Index\")\n",
    "plt.ylabel(\"rate of decline\")\n",
    "plt.title(\"Graph of the Array\")\n",
    "plt.legend()\n",
    "plt.show()"
   ]
  },
  {
   "cell_type": "code",
   "execution_count": 17,
   "metadata": {},
   "outputs": [
    {
     "data": {
      "text/plain": [
       "0.5636363636363636"
      ]
     },
     "execution_count": 17,
     "metadata": {},
     "output_type": "execute_result"
    }
   ],
   "source": [
    "# マザーズipo　上場前　ocの下落率（-5日～-1日目まで）\n",
    "np.mean(np.mean(mothers_etf_oc_change_downflag_list,axis=0)[0:5])"
   ]
  },
  {
   "cell_type": "code",
   "execution_count": 18,
   "metadata": {},
   "outputs": [
    {
     "data": {
      "text/plain": [
       "0.509090909090909"
      ]
     },
     "execution_count": 18,
     "metadata": {},
     "output_type": "execute_result"
    }
   ],
   "source": [
    "# マザーズipo　上場後　ocの下落率（1日～5日目まで）\n",
    "np.mean(np.mean(mothers_etf_oc_change_downflag_list,axis=0)[5:10])\n"
   ]
  },
  {
   "cell_type": "code",
   "execution_count": 19,
   "metadata": {},
   "outputs": [
    {
     "data": {
      "text/plain": [
       "0.5363636363636364"
      ]
     },
     "execution_count": 19,
     "metadata": {},
     "output_type": "execute_result"
    }
   ],
   "source": [
    "# マザーズipo　上場前後　ocの下落率（全日の平均）\n",
    "np.mean(np.mean(mothers_etf_oc_change_downflag_list,axis=0))"
   ]
  },
  {
   "attachments": {},
   "cell_type": "markdown",
   "metadata": {},
   "source": [
    "条件（期間2018-02-01～、ipoマザーズ上場、時価総額（初値計算）500億以上）\n",
    "\n",
    "etf全期間の下落率約48%のところ\n",
    "\n",
    "・上場前5日間平均約56%\n",
    "\n",
    "・上場後5日間平均約51%\n",
    "\n",
    "・上場前後の10日間平均54%\n",
    "\n",
    "以上から下落率は多少は高いがあまり変わらない"
   ]
  }
 ],
 "metadata": {
  "kernelspec": {
   "display_name": "yt_38",
   "language": "python",
   "name": "python3"
  },
  "language_info": {
   "codemirror_mode": {
    "name": "ipython",
    "version": 3
   },
   "file_extension": ".py",
   "mimetype": "text/x-python",
   "name": "python",
   "nbconvert_exporter": "python",
   "pygments_lexer": "ipython3",
   "version": "3.8.8"
  },
  "orig_nbformat": 4,
  "vscode": {
   "interpreter": {
    "hash": "0c94bdebe17f03cae7fda76860c6ff1bbe2feabe4a32a304bbf36a54ab3aac08"
   }
  }
 },
 "nbformat": 4,
 "nbformat_minor": 2
}
