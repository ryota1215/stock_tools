{
 "cells": [
  {
   "cell_type": "code",
   "execution_count": 1,
   "metadata": {},
   "outputs": [],
   "source": [
    "import os\n",
    "from datetime import datetime\n",
    "\n",
    "import japanize_matplotlib\n",
    "import jquantsapi\n",
    "import matplotlib.pyplot as plt\n",
    "import numpy as np\n",
    "import pandas as pd\n",
    "import seaborn as sns\n",
    "import requests\n",
    "import json\n",
    "# pandas の表示制限を調整します\n",
    "pd.set_option(\"display.max_rows\", 1000)\n",
    "pd.set_option(\"display.max_columns\", 1000)\n",
    "pd.set_option(\"display.width\", 2000)\n",
    "     \n"
   ]
  },
  {
   "cell_type": "code",
   "execution_count": 2,
   "metadata": {},
   "outputs": [],
   "source": [
    "df_schedule = pd.read_csv(r\"C:\\Users\\xxp2p\\OneDrive\\デスクトップ\\ipo_csv格納庫\\df_schedule_0120.csv\", encoding='utf-8_sig')\n",
    "df_assessments = pd.read_csv(r\"C:\\Users\\xxp2p\\OneDrive\\デスクトップ\\ipo_csv格納庫\\df_assessments_0131.csv\", encoding='utf-8_sig')\n",
    "df_shareholders = pd.read_csv(r\"C:\\Users\\xxp2p\\OneDrive\\デスクトップ\\ipo_csv格納庫\\df_shareholders_0120.csv\", encoding='utf-8_sig')\n",
    "df_underwriters = pd.read_csv(r\"C:\\Users\\xxp2p\\OneDrive\\デスクトップ\\ipo_csv格納庫\\df_underwriters_0120.csv\", encoding='utf-8_sig')\n",
    "df_mothers_price = pd.read_csv(r\"C:\\Users\\xxp2p\\OneDrive\\デスクトップ\\ipo_csv格納庫\\mothers_izanami.csv\", encoding='Shift-JIS')\n",
    "# 2020/10/01の東証のシステム障害日の行は無い"
   ]
  },
  {
   "cell_type": "code",
   "execution_count": 3,
   "metadata": {},
   "outputs": [
    {
     "data": {
      "text/html": [
       "<div>\n",
       "<style scoped>\n",
       "    .dataframe tbody tr th:only-of-type {\n",
       "        vertical-align: middle;\n",
       "    }\n",
       "\n",
       "    .dataframe tbody tr th {\n",
       "        vertical-align: top;\n",
       "    }\n",
       "\n",
       "    .dataframe thead th {\n",
       "        text-align: right;\n",
       "    }\n",
       "</style>\n",
       "<table border=\"1\" class=\"dataframe\">\n",
       "  <thead>\n",
       "    <tr style=\"text-align: right;\">\n",
       "      <th></th>\n",
       "      <th>日付</th>\n",
       "      <th>始値</th>\n",
       "      <th>高値</th>\n",
       "      <th>安値</th>\n",
       "      <th>終値</th>\n",
       "      <th>出来高</th>\n",
       "      <th>前日比(率)</th>\n",
       "      <th>Date</th>\n",
       "      <th>oc_change</th>\n",
       "      <th>cc_change</th>\n",
       "      <th>oc_change_downflag</th>\n",
       "    </tr>\n",
       "  </thead>\n",
       "  <tbody>\n",
       "    <tr>\n",
       "      <th>0</th>\n",
       "      <td>2004/06/21</td>\n",
       "      <td>2374.68</td>\n",
       "      <td>2400.10</td>\n",
       "      <td>2374.68</td>\n",
       "      <td>2384.95</td>\n",
       "      <td>NaN</td>\n",
       "      <td>NaN</td>\n",
       "      <td>2004-06-21</td>\n",
       "      <td>0.004325</td>\n",
       "      <td>NaN</td>\n",
       "      <td>0</td>\n",
       "    </tr>\n",
       "    <tr>\n",
       "      <th>1</th>\n",
       "      <td>2004/06/22</td>\n",
       "      <td>2370.93</td>\n",
       "      <td>2371.30</td>\n",
       "      <td>2307.46</td>\n",
       "      <td>2307.46</td>\n",
       "      <td>NaN</td>\n",
       "      <td>-3.24%</td>\n",
       "      <td>2004-06-22</td>\n",
       "      <td>-0.026770</td>\n",
       "      <td>-0.028307</td>\n",
       "      <td>1</td>\n",
       "    </tr>\n",
       "    <tr>\n",
       "      <th>2</th>\n",
       "      <td>2004/06/23</td>\n",
       "      <td>2314.66</td>\n",
       "      <td>2321.72</td>\n",
       "      <td>2248.48</td>\n",
       "      <td>2253.64</td>\n",
       "      <td>NaN</td>\n",
       "      <td>-2.33%</td>\n",
       "      <td>2004-06-23</td>\n",
       "      <td>-0.026362</td>\n",
       "      <td>-0.049470</td>\n",
       "      <td>1</td>\n",
       "    </tr>\n",
       "    <tr>\n",
       "      <th>3</th>\n",
       "      <td>2004/06/24</td>\n",
       "      <td>2275.97</td>\n",
       "      <td>2292.70</td>\n",
       "      <td>2258.93</td>\n",
       "      <td>2292.70</td>\n",
       "      <td>NaN</td>\n",
       "      <td>+1.73%</td>\n",
       "      <td>2004-06-24</td>\n",
       "      <td>0.007351</td>\n",
       "      <td>-0.009487</td>\n",
       "      <td>0</td>\n",
       "    </tr>\n",
       "    <tr>\n",
       "      <th>4</th>\n",
       "      <td>2004/06/25</td>\n",
       "      <td>2304.47</td>\n",
       "      <td>2389.66</td>\n",
       "      <td>2304.47</td>\n",
       "      <td>2384.62</td>\n",
       "      <td>NaN</td>\n",
       "      <td>+4.00%</td>\n",
       "      <td>2004-06-25</td>\n",
       "      <td>0.034780</td>\n",
       "      <td>0.047738</td>\n",
       "      <td>0</td>\n",
       "    </tr>\n",
       "    <tr>\n",
       "      <th>...</th>\n",
       "      <td>...</td>\n",
       "      <td>...</td>\n",
       "      <td>...</td>\n",
       "      <td>...</td>\n",
       "      <td>...</td>\n",
       "      <td>...</td>\n",
       "      <td>...</td>\n",
       "      <td>...</td>\n",
       "      <td>...</td>\n",
       "      <td>...</td>\n",
       "      <td>...</td>\n",
       "    </tr>\n",
       "    <tr>\n",
       "      <th>4553</th>\n",
       "      <td>2023/01/26</td>\n",
       "      <td>779.33</td>\n",
       "      <td>782.87</td>\n",
       "      <td>774.77</td>\n",
       "      <td>777.28</td>\n",
       "      <td>NaN</td>\n",
       "      <td>-0.12%</td>\n",
       "      <td>2023-01-26</td>\n",
       "      <td>-0.002630</td>\n",
       "      <td>0.009769</td>\n",
       "      <td>1</td>\n",
       "    </tr>\n",
       "    <tr>\n",
       "      <th>4554</th>\n",
       "      <td>2023/01/27</td>\n",
       "      <td>777.15</td>\n",
       "      <td>782.39</td>\n",
       "      <td>770.61</td>\n",
       "      <td>770.96</td>\n",
       "      <td>NaN</td>\n",
       "      <td>-0.81%</td>\n",
       "      <td>2023-01-27</td>\n",
       "      <td>-0.007965</td>\n",
       "      <td>-0.010740</td>\n",
       "      <td>1</td>\n",
       "    </tr>\n",
       "    <tr>\n",
       "      <th>4555</th>\n",
       "      <td>2023/01/30</td>\n",
       "      <td>773.11</td>\n",
       "      <td>780.34</td>\n",
       "      <td>772.41</td>\n",
       "      <td>773.76</td>\n",
       "      <td>NaN</td>\n",
       "      <td>+0.36%</td>\n",
       "      <td>2023-01-30</td>\n",
       "      <td>0.000841</td>\n",
       "      <td>-0.004362</td>\n",
       "      <td>0</td>\n",
       "    </tr>\n",
       "    <tr>\n",
       "      <th>4556</th>\n",
       "      <td>2023/01/31</td>\n",
       "      <td>771.88</td>\n",
       "      <td>776.69</td>\n",
       "      <td>768.97</td>\n",
       "      <td>775.93</td>\n",
       "      <td>NaN</td>\n",
       "      <td>+0.28%</td>\n",
       "      <td>2023-01-31</td>\n",
       "      <td>0.005247</td>\n",
       "      <td>0.003648</td>\n",
       "      <td>0</td>\n",
       "    </tr>\n",
       "    <tr>\n",
       "      <th>4557</th>\n",
       "      <td>2023/02/01</td>\n",
       "      <td>779.81</td>\n",
       "      <td>789.08</td>\n",
       "      <td>779.81</td>\n",
       "      <td>783.18</td>\n",
       "      <td>NaN</td>\n",
       "      <td>+0.93%</td>\n",
       "      <td>2023-02-01</td>\n",
       "      <td>0.004322</td>\n",
       "      <td>0.014640</td>\n",
       "      <td>0</td>\n",
       "    </tr>\n",
       "  </tbody>\n",
       "</table>\n",
       "<p>4558 rows × 11 columns</p>\n",
       "</div>"
      ],
      "text/plain": [
       "              日付       始値       高値       安値       終値  出来高  前日比(率)       Date  oc_change  cc_change  oc_change_downflag\n",
       "0     2004/06/21  2374.68  2400.10  2374.68  2384.95  NaN     NaN 2004-06-21   0.004325        NaN                   0\n",
       "1     2004/06/22  2370.93  2371.30  2307.46  2307.46  NaN  -3.24% 2004-06-22  -0.026770  -0.028307                   1\n",
       "2     2004/06/23  2314.66  2321.72  2248.48  2253.64  NaN  -2.33% 2004-06-23  -0.026362  -0.049470                   1\n",
       "3     2004/06/24  2275.97  2292.70  2258.93  2292.70  NaN  +1.73% 2004-06-24   0.007351  -0.009487                   0\n",
       "4     2004/06/25  2304.47  2389.66  2304.47  2384.62  NaN  +4.00% 2004-06-25   0.034780   0.047738                   0\n",
       "...          ...      ...      ...      ...      ...  ...     ...        ...        ...        ...                 ...\n",
       "4553  2023/01/26   779.33   782.87   774.77   777.28  NaN  -0.12% 2023-01-26  -0.002630   0.009769                   1\n",
       "4554  2023/01/27   777.15   782.39   770.61   770.96  NaN  -0.81% 2023-01-27  -0.007965  -0.010740                   1\n",
       "4555  2023/01/30   773.11   780.34   772.41   773.76  NaN  +0.36% 2023-01-30   0.000841  -0.004362                   0\n",
       "4556  2023/01/31   771.88   776.69   768.97   775.93  NaN  +0.28% 2023-01-31   0.005247   0.003648                   0\n",
       "4557  2023/02/01   779.81   789.08   779.81   783.18  NaN  +0.93% 2023-02-01   0.004322   0.014640                   0\n",
       "\n",
       "[4558 rows x 11 columns]"
      ]
     },
     "execution_count": 3,
     "metadata": {},
     "output_type": "execute_result"
    }
   ],
   "source": [
    "df_mothers_price['Date'] = pd.to_datetime(df_mothers_price['日付'], format='%Y/%m/%d')\n",
    "df_mothers_price.sort_values(by='Date', ascending=True, inplace=True)\n",
    "df_mothers_price = df_mothers_price.reset_index(drop=True)\n",
    "df_mothers_price[\"oc_change\"] = df_mothers_price[\"終値\"] / df_mothers_price[\"始値\"] - 1\n",
    "df_mothers_price[\"cc_change\"] = df_mothers_price[\"終値\"] / df_mothers_price[\"始値\"].shift(1) - 1\n",
    "df_mothers_price[\"oc_change_downflag\"] = [1 if x < 0 else 0 for x in df_mothers_price[\"oc_change\"]]\n",
    "df_mothers_price['oc_change'] = df_mothers_price['oc_change'].fillna(0)\n",
    "df_mothers_price = df_mothers_price.dropna(subset=[\"始値\"]).reset_index(drop=True)\n",
    "df_mothers_price"
   ]
  },
  {
   "cell_type": "code",
   "execution_count": 5,
   "metadata": {},
   "outputs": [],
   "source": [
    "# リフレッシュトークンの更新　メールアドレスとパスワード漏洩注意\n",
    "# https://ku-ai-trade.com/j-quants-api/\n",
    "\n",
    "# data={\"mailaddress\":\"登録したメアド\", \"password\":\"登録したpass\"}\n",
    "r_post = requests.post(\"https://api.jpx-jquants.com/v1/token/auth_user\", data=json.dumps(data))\n",
    "r_post.json()\n",
    "# トークン取得\n",
    "refresh_token = r_post.json()['refreshToken']\n",
    "# J-Quants APIクライアントを初期化します\n",
    "jqapi = jquantsapi.Client(refresh_token=refresh_token)\n",
    "# 銘柄情報を取得します\n",
    "df_list = jqapi.get_list()"
   ]
  },
  {
   "cell_type": "code",
   "execution_count": 6,
   "metadata": {},
   "outputs": [
    {
     "data": {
      "text/html": [
       "<div>\n",
       "<style scoped>\n",
       "    .dataframe tbody tr th:only-of-type {\n",
       "        vertical-align: middle;\n",
       "    }\n",
       "\n",
       "    .dataframe tbody tr th {\n",
       "        vertical-align: top;\n",
       "    }\n",
       "\n",
       "    .dataframe thead th {\n",
       "        text-align: right;\n",
       "    }\n",
       "</style>\n",
       "<table border=\"1\" class=\"dataframe\">\n",
       "  <thead>\n",
       "    <tr style=\"text-align: right;\">\n",
       "      <th></th>\n",
       "      <th>日付</th>\n",
       "      <th>始値</th>\n",
       "      <th>高値</th>\n",
       "      <th>安値</th>\n",
       "      <th>終値</th>\n",
       "      <th>出来高</th>\n",
       "      <th>前日比(率)</th>\n",
       "      <th>Date</th>\n",
       "      <th>oc_change</th>\n",
       "      <th>cc_change</th>\n",
       "      <th>oc_change_downflag</th>\n",
       "    </tr>\n",
       "  </thead>\n",
       "  <tbody>\n",
       "    <tr>\n",
       "      <th>0</th>\n",
       "      <td>2004/06/21</td>\n",
       "      <td>2374.68</td>\n",
       "      <td>2400.1</td>\n",
       "      <td>2374.68</td>\n",
       "      <td>2384.95</td>\n",
       "      <td>NaN</td>\n",
       "      <td>NaN</td>\n",
       "      <td>2004-06-21</td>\n",
       "      <td>0.004325</td>\n",
       "      <td>NaN</td>\n",
       "      <td>0</td>\n",
       "    </tr>\n",
       "  </tbody>\n",
       "</table>\n",
       "</div>"
      ],
      "text/plain": [
       "           日付       始値      高値       安値       終値  出来高 前日比(率)       Date  oc_change  cc_change  oc_change_downflag\n",
       "0  2004/06/21  2374.68  2400.1  2374.68  2384.95  NaN    NaN 2004-06-21   0.004325        NaN                   0"
      ]
     },
     "execution_count": 6,
     "metadata": {},
     "output_type": "execute_result"
    }
   ],
   "source": [
    "# 欠損値の確認\n",
    "df_mothers_price[df_mothers_price[[\"cc_change\"]].isnull().any(axis=1)]"
   ]
  },
  {
   "attachments": {},
   "cell_type": "markdown",
   "metadata": {},
   "source": [
    "ここで検証コードつくってみる"
   ]
  },
  {
   "cell_type": "code",
   "execution_count": 7,
   "metadata": {},
   "outputs": [],
   "source": [
    "# ipo検証用のdf作成[1]\n",
    "\n",
    "# 期末発行済株式数カラム作成用コード\n",
    "df_fin_firsts = pd.DataFrame()\n",
    "for i in df_assessments[\"code\"].values:\n",
    "# for i in [3277]:実験用\n",
    "    df_fin_first = jqapi.get_fins_statements(code=i)\n",
    "    df_fin_first[\"期末発行済株式数\"] = df_fin_first[\"NumberOfIssuedAndOutstandingSharesAtTheEndOfFiscalYearIncludingTreasuryStock\"]\n",
    "    df_fin_first[\"期末発行済株式数\"] = pd.to_numeric(df_fin_first[\"期末発行済株式数\"], errors='raise', downcast=None)\n",
    "    df_fin_first[\"期末発行済株式数\"] = df_fin_first[\"期末発行済株式数\"].fillna(method='bfill')\n",
    "    df_fin_firsts = pd.concat([df_fin_firsts,df_fin_first.iloc[:1,:]], axis=0)\n",
    "# df_fin_firsts[\"期末発行済株式数\"]"
   ]
  },
  {
   "cell_type": "code",
   "execution_count": 8,
   "metadata": {},
   "outputs": [],
   "source": [
    "# 時短用 read_csv\n",
    "# df_fin_firsts = pd.read_csv(r\"C:\\Users\\xxp2p\\OneDrive\\デスクトップ\\df_fin_firsts.csv\", encoding='utf-8_sig')\n",
    "# df_fin_firsts[\"LocalCode\"] = df_fin_firsts[\"LocalCode\"].astype(str)\n",
    "\n",
    "\n",
    "# 時短用　確認用to_csv\n",
    "# df_fin_firsts.to_csv(r\"C:\\Users\\xxp2p\\OneDrive\\デスクトップ\\df_fin_firsts.csv\", encoding='utf-8_sig',index=False)"
   ]
  },
  {
   "cell_type": "code",
   "execution_count": 9,
   "metadata": {},
   "outputs": [],
   "source": [
    "# ipo検証用のdf作成[2]\n",
    "\n",
    "# indexのリセット \n",
    "df_fin_firsts = df_fin_firsts.reset_index(drop=True)\n",
    "# mergeのためにcode列を作成し文字列型で最後の０を抜く\n",
    "df_fin_firsts[\"code\"] = df_fin_firsts[\"LocalCode\"]\n",
    "# 最後の一文字を消す\n",
    "df_fin_firsts[\"code\"] = df_fin_firsts[\"code\"].str[:-1]\n",
    "# 数値型に変更\n",
    "df_fin_firsts[\"code\"] = df_fin_firsts[\"code\"].astype(int)\n",
    "# 必要なカラムのみ残す\n",
    "df_fin_firsts[\"期末発行済株式数_開示日\"] = df_fin_firsts[\"DisclosedDate\"]\n",
    "df_fin_firsts = df_fin_firsts[[\n",
    "    \"code\",\n",
    "    \"期末発行済株式数\",\n",
    "    \"期末発行済株式数_開示日\"\n",
    "]]\n",
    "# merge\n",
    "df_ipo_inspection = df_assessments[[\n",
    "    \"code\",\n",
    "    \"初値（円）\",\n",
    "    \"想定価格（円）\",\n",
    "    \"上場市場\"\n",
    "    ]]\n",
    "\n",
    "df_ipo_inspection = pd.merge(df_ipo_inspection,df_fin_firsts, on=\"code\", how=\"inner\")\n",
    "df_schedule_ipo = df_schedule[[\n",
    "    \"code\",\n",
    "    \"上場日\",\n",
    "    \"当選株数合計（株）\"\n",
    "]]\n",
    "\n",
    "df_ipo_inspection = pd.merge(df_ipo_inspection,df_schedule_ipo, on=\"code\", how=\"inner\")\n",
    "\n",
    "\n",
    "# 時価総額カラム作成\n",
    "df_ipo_inspection[\"時価総額_想定価格計算\"] = df_ipo_inspection[\"期末発行済株式数\"] * df_ipo_inspection[\"想定価格（円）\"]\n",
    "df_ipo_inspection[\"時価総額_初値計算\"] = df_ipo_inspection[\"期末発行済株式数\"] * df_ipo_inspection[\"初値（円）\"]\n",
    "\n",
    "# 公募＋売出の総額\n",
    "df_ipo_inspection[\"公募売出総額_想定価格計算\"] = df_ipo_inspection[\"当選株数合計（株）\"] * df_ipo_inspection[\"想定価格（円）\"]\n",
    "df_ipo_inspection[\"公募売出総額_初値計算\"] = df_ipo_inspection[\"当選株数合計（株）\"] * df_ipo_inspection[\"初値（円）\"]\n"
   ]
  },
  {
   "cell_type": "code",
   "execution_count": 10,
   "metadata": {},
   "outputs": [],
   "source": [
    "# 日付でソートするための日付列をdatetime型に変換\n",
    "df_ipo_inspection[\"上場日\"] = pd.to_datetime(df_ipo_inspection[\"上場日\"])\n",
    "df_ipo_inspection = df_ipo_inspection.loc[df_ipo_inspection[\"上場市場\"] == \"マザーズ\",:]"
   ]
  },
  {
   "cell_type": "code",
   "execution_count": 11,
   "metadata": {},
   "outputs": [],
   "source": [
    "# 日付列でソート\n",
    "df_ipo_inspection.sort_values(by='上場日', ascending=True, inplace=True)"
   ]
  },
  {
   "cell_type": "code",
   "execution_count": 12,
   "metadata": {},
   "outputs": [],
   "source": [
    "# 時価総額_初値計算でソート 500億以上\n",
    "df_ipo_inspection.sort_values(by='時価総額_初値計算', ascending=True, inplace=True)\n",
    "df_ipo_inspection = df_ipo_inspection[df_ipo_inspection['時価総額_初値計算'] >= 5.00e+10]\n",
    "df_ipo_inspection = df_ipo_inspection.reset_index(drop=True)"
   ]
  },
  {
   "cell_type": "code",
   "execution_count": 13,
   "metadata": {},
   "outputs": [],
   "source": [
    "# 時価総額で抽出したipo銘柄の上場後の値動き\n",
    "# ipo_price_df_list　対象銘柄上場日の5日間の値動きをdfでリストに保存（5日間）時価総額＿初値500億以上\n",
    "# df_mothers_price_df_list　前後5日間ずつをリストに保存\n",
    "\n",
    "# ipoの株価保存用リスト\n",
    "df_ipo_price_list = []\n",
    "\n",
    "df_mothers_price_list = []\n",
    "mothers_oc_change_list =[]\n",
    "mothers_oc_change_downflag_list = []\n",
    "# cc_change用 \n",
    "# df_mothers_cc_change_list = []\n",
    "# mothers_cc_change_list =[]\n",
    "for i in range(len(df_ipo_inspection)):\n",
    "    ipo_code = df_ipo_inspection[\"code\"][i]\n",
    "    date = df_ipo_inspection[\"上場日\"][i]\n",
    "    # timestampに〇日足す（Timedelt）\n",
    "    end_date = date + pd.Timedelta(days=20)\n",
    "    start_date = date.strftime(\"%Y%m%d\")\n",
    "    end_date = end_date.strftime(\"%Y%m%d\")\n",
    "    # get_prices_daily_quotesのために数字に変更\n",
    "    start_date = pd.to_numeric(start_date)\n",
    "    end_date = pd.to_numeric(end_date)\n",
    "    price = jqapi.get_prices_daily_quotes(code=ipo_code,\n",
    "        from_yyyymmdd=start_date,\n",
    "        to_yyyymmdd=end_date)\n",
    "    # 上場日から5日間を抽出\n",
    "    df_ipo_price_list.append(price[0:5])\n",
    "\n",
    "    # マザーズ指数の値動き保存　前後の日数設定\n",
    "    target_date = date\n",
    "    start_index = df_mothers_price[df_mothers_price['Date'] == target_date].index[0] - 5\n",
    "    end_index = df_mothers_price[df_mothers_price['Date'] == target_date].index[0] + 5\n",
    "    # リストに追加\n",
    "    df_mothers_price_list.append(df_mothers_price.iloc[start_index:end_index])\n",
    "    mothers_oc_change_list.append(df_mothers_price.iloc[start_index:end_index].oc_change.values)\n",
    "    mothers_oc_change_downflag_list.append(df_mothers_price.iloc[start_index:end_index].oc_change_downflag.values)\n",
    "    # cc_change用 \n",
    "    # df_mothers_cc_change_list.append(df_mothers_price.iloc[start_index:end_index].cc_change)\n",
    "    # mothers_cc_change_list.append(df_mothers_price.iloc[start_index:end_index].cc_change.values)\n",
    "\n"
   ]
  },
  {
   "attachments": {},
   "cell_type": "markdown",
   "metadata": {},
   "source": [
    "下落確率検証"
   ]
  },
  {
   "cell_type": "code",
   "execution_count": 14,
   "metadata": {},
   "outputs": [
    {
     "data": {
      "text/plain": [
       "0.49056603773584906"
      ]
     },
     "execution_count": 14,
     "metadata": {},
     "output_type": "execute_result"
    }
   ],
   "source": [
    "# マザーズ指数　全期間　ocの下落率\n",
    "df_mothers_price.oc_change_downflag.mean()"
   ]
  },
  {
   "cell_type": "code",
   "execution_count": 15,
   "metadata": {},
   "outputs": [
    {
     "data": {
      "text/plain": [
       "array([0.57352941, 0.47058824, 0.42647059, 0.44117647, 0.61764706,\n",
       "       0.48529412, 0.45588235, 0.36764706, 0.58823529, 0.52941176])"
      ]
     },
     "execution_count": 15,
     "metadata": {},
     "output_type": "execute_result"
    }
   ],
   "source": [
    "# マザーズipo上場前後の指数ocの下落率（上場日－5日～5日目）\n",
    "np.mean(mothers_oc_change_downflag_list,axis=0)"
   ]
  },
  {
   "cell_type": "code",
   "execution_count": 16,
   "metadata": {},
   "outputs": [
    {
     "data": {
      "image/png": "[encoded data removed]",
      "text/plain": [
       "<Figure size 432x288 with 1 Axes>"
      ]
     },
     "metadata": {
      "needs_background": "light"
     },
     "output_type": "display_data"
    }
   ],
   "source": [
    "# 可視化\n",
    "mean = df_mothers_price.oc_change_downflag.mean()\n",
    "x = [i for i in range(len(np.mean(mothers_oc_change_downflag_list,axis=0)))]\n",
    "y = np.mean(mothers_oc_change_downflag_list,axis=0)\n",
    "plt.plot(x, y, label=\"At the time of IPO listing\")\n",
    "plt.axhline(mean,color='red', linestyle='--', label=\"指数 Mean\")\n",
    "plt.xlabel(\"Index\")\n",
    "plt.ylabel(\"rate of decline\")\n",
    "plt.title(\"Graph of the Array\")\n",
    "plt.legend()\n",
    "plt.show()"
   ]
  },
  {
   "cell_type": "code",
   "execution_count": 17,
   "metadata": {},
   "outputs": [
    {
     "data": {
      "text/plain": [
       "0.5058823529411764"
      ]
     },
     "execution_count": 17,
     "metadata": {},
     "output_type": "execute_result"
    }
   ],
   "source": [
    "# マザーズipo　上場前　ocの下落率（-5日～-1日目まで）\n",
    "np.mean(np.mean(mothers_oc_change_downflag_list,axis=0)[0:5])"
   ]
  },
  {
   "cell_type": "code",
   "execution_count": 18,
   "metadata": {},
   "outputs": [
    {
     "data": {
      "text/plain": [
       "0.48529411764705876"
      ]
     },
     "execution_count": 18,
     "metadata": {},
     "output_type": "execute_result"
    }
   ],
   "source": [
    "# マザーズipo　上場後　ocの下落率（1日～5日目まで）\n",
    "np.mean(np.mean(mothers_oc_change_downflag_list,axis=0)[5:10])\n"
   ]
  },
  {
   "cell_type": "code",
   "execution_count": 19,
   "metadata": {},
   "outputs": [
    {
     "data": {
      "text/plain": [
       "0.49558823529411755"
      ]
     },
     "execution_count": 19,
     "metadata": {},
     "output_type": "execute_result"
    }
   ],
   "source": [
    "# マザーズipo　上場前後　ocの下落率（全日の平均）\n",
    "np.mean(np.mean(mothers_oc_change_downflag_list,axis=0))"
   ]
  },
  {
   "attachments": {},
   "cell_type": "markdown",
   "metadata": {},
   "source": [
    "条件（期間2011年～、ipoマザーズ上場で時価総額（初値計算）500億以上）※68銘柄\n",
    "\n",
    "マザーズ指数(期間2004/06/21～現在）の下落率約49%のところ\n",
    "\n",
    "・上場前5日間平均約51%\n",
    "\n",
    "・上場後5日間平均約49%\n",
    "\n",
    "・上場前後の10日間平均50%\n",
    "\n",
    "・上場前日は下落率約62％と少し高いがたまたまか？\n",
    "\n",
    "\n",
    "以上から下落率はあまり変わらない。\n",
    "\n"
   ]
  }
 ],
 "metadata": {
  "kernelspec": {
   "display_name": "yt_38",
   "language": "python",
   "name": "python3"
  },
  "language_info": {
   "codemirror_mode": {
    "name": "ipython",
    "version": 3
   },
   "file_extension": ".py",
   "mimetype": "text/x-python",
   "name": "python",
   "nbconvert_exporter": "python",
   "pygments_lexer": "ipython3",
   "version": "3.8.8"
  },
  "orig_nbformat": 4,
  "vscode": {
   "interpreter": {
    "hash": "0c94bdebe17f03cae7fda76860c6ff1bbe2feabe4a32a304bbf36a54ab3aac08"
   }
  }
 },
 "nbformat": 4,
 "nbformat_minor": 2
}
